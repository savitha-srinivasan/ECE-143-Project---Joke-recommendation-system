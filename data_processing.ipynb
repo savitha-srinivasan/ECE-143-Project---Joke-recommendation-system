{
 "metadata": {
  "language_info": {
   "codemirror_mode": {
    "name": "ipython",
    "version": 3
   },
   "file_extension": ".py",
   "mimetype": "text/x-python",
   "name": "python",
   "nbconvert_exporter": "python",
   "pygments_lexer": "ipython3",
   "version": "3.7.4-final"
  },
  "orig_nbformat": 2,
  "kernelspec": {
   "name": "python3",
   "display_name": "Python 3",
   "language": "python"
  }
 },
 "nbformat": 4,
 "nbformat_minor": 2,
 "cells": [
  {
   "cell_type": "code",
   "execution_count": 1,
   "metadata": {},
   "outputs": [],
   "source": [
    "import numpy as np \n",
    "import os \n",
    "import pandas as pd \n",
    "import matplotlib.pyplot as plt \n",
    "import scipy.stats"
   ]
  },
  {
   "cell_type": "code",
   "execution_count": 48,
   "metadata": {},
   "outputs": [],
   "source": [
    "data_dir1 = \"C:/Users/Savitha Srinivasan/UCSD assn/ECE 143/ECE-143-Project---Joke-recommendation-system/Dataset Version 1/jester-data-1.xls\"\n",
    "data_dir2 = \"C:/Users/Savitha Srinivasan/UCSD assn/ECE 143/ECE-143-Project---Joke-recommendation-system/Dataset Version 1/jester-data-2.xls\"\n",
    "data_dir3 = \"C:/Users/Savitha Srinivasan/UCSD assn/ECE 143/ECE-143-Project---Joke-recommendation-system/Dataset Version 1/jester-data-3.xls\"\n",
    "df1 = pd.read_excel(data_dir1, header=None)\n",
    "df2 = pd.read_excel(data_dir2, header=None)\n",
    "df3 = pd.read_excel(data_dir3, header=None)\n",
    "df = df1.append(df2).append(df3)\n",
    "# df = pd.DataFrame(pd.read_excel(data_dir))"
   ]
  },
  {
   "cell_type": "code",
   "execution_count": 49,
   "metadata": {},
   "outputs": [
    {
     "output_type": "execute_result",
     "data": {
      "text/plain": [
       "        joke1  joke2  joke3  joke4  joke5  joke6  joke7  joke8  joke9  joke10  \\\n",
       "UserID                                                                          \n",
       "0       -7.82   8.79  -9.66  -8.16  -7.52  -8.50  -9.85   4.17  -8.98   -4.76   \n",
       "1        4.08  -0.29   6.36   4.37  -2.38  -9.66  -0.73  -5.34   8.88    9.22   \n",
       "2         NaN    NaN    NaN    NaN   9.03   9.27   9.03   9.27    NaN     NaN   \n",
       "3         NaN   8.35    NaN    NaN   1.80   8.16  -2.82   6.21    NaN    1.84   \n",
       "4        8.50   4.61  -4.17  -5.39   1.36   1.60   7.04   4.61  -0.44    5.73   \n",
       "5       -6.17  -3.54   0.44  -8.50  -7.09  -4.32  -8.69  -0.87  -6.65   -1.80   \n",
       "\n",
       "        ...  joke91  joke92  joke93  joke94  joke95  joke96  joke97  joke98  \\\n",
       "UserID  ...                                                                   \n",
       "0       ...    2.82     NaN     NaN     NaN     NaN     NaN   -5.63     NaN   \n",
       "1       ...    2.82   -4.95   -0.29    7.86   -0.19   -2.14    3.06    0.34   \n",
       "2       ...     NaN     NaN     NaN    9.08     NaN     NaN     NaN     NaN   \n",
       "3       ...     NaN     NaN     NaN    0.53     NaN     NaN     NaN     NaN   \n",
       "4       ...    5.19    5.58    4.27    5.19    5.73    1.55    3.11    6.55   \n",
       "5       ...   -3.54   -6.89   -0.68   -2.96   -2.18   -3.35    0.05   -9.08   \n",
       "\n",
       "        joke99  joke100  \n",
       "UserID                   \n",
       "0          NaN      NaN  \n",
       "1        -4.32     1.07  \n",
       "2          NaN      NaN  \n",
       "3          NaN      NaN  \n",
       "4         1.80     1.60  \n",
       "5        -5.05    -3.45  \n",
       "\n",
       "[6 rows x 100 columns]"
      ],
      "text/html": "<div>\n<style scoped>\n    .dataframe tbody tr th:only-of-type {\n        vertical-align: middle;\n    }\n\n    .dataframe tbody tr th {\n        vertical-align: top;\n    }\n\n    .dataframe thead th {\n        text-align: right;\n    }\n</style>\n<table border=\"1\" class=\"dataframe\">\n  <thead>\n    <tr style=\"text-align: right;\">\n      <th></th>\n      <th>joke1</th>\n      <th>joke2</th>\n      <th>joke3</th>\n      <th>joke4</th>\n      <th>joke5</th>\n      <th>joke6</th>\n      <th>joke7</th>\n      <th>joke8</th>\n      <th>joke9</th>\n      <th>joke10</th>\n      <th>...</th>\n      <th>joke91</th>\n      <th>joke92</th>\n      <th>joke93</th>\n      <th>joke94</th>\n      <th>joke95</th>\n      <th>joke96</th>\n      <th>joke97</th>\n      <th>joke98</th>\n      <th>joke99</th>\n      <th>joke100</th>\n    </tr>\n    <tr>\n      <th>UserID</th>\n      <th></th>\n      <th></th>\n      <th></th>\n      <th></th>\n      <th></th>\n      <th></th>\n      <th></th>\n      <th></th>\n      <th></th>\n      <th></th>\n      <th></th>\n      <th></th>\n      <th></th>\n      <th></th>\n      <th></th>\n      <th></th>\n      <th></th>\n      <th></th>\n      <th></th>\n      <th></th>\n      <th></th>\n    </tr>\n  </thead>\n  <tbody>\n    <tr>\n      <td>0</td>\n      <td>-7.82</td>\n      <td>8.79</td>\n      <td>-9.66</td>\n      <td>-8.16</td>\n      <td>-7.52</td>\n      <td>-8.50</td>\n      <td>-9.85</td>\n      <td>4.17</td>\n      <td>-8.98</td>\n      <td>-4.76</td>\n      <td>...</td>\n      <td>2.82</td>\n      <td>NaN</td>\n      <td>NaN</td>\n      <td>NaN</td>\n      <td>NaN</td>\n      <td>NaN</td>\n      <td>-5.63</td>\n      <td>NaN</td>\n      <td>NaN</td>\n      <td>NaN</td>\n    </tr>\n    <tr>\n      <td>1</td>\n      <td>4.08</td>\n      <td>-0.29</td>\n      <td>6.36</td>\n      <td>4.37</td>\n      <td>-2.38</td>\n      <td>-9.66</td>\n      <td>-0.73</td>\n      <td>-5.34</td>\n      <td>8.88</td>\n      <td>9.22</td>\n      <td>...</td>\n      <td>2.82</td>\n      <td>-4.95</td>\n      <td>-0.29</td>\n      <td>7.86</td>\n      <td>-0.19</td>\n      <td>-2.14</td>\n      <td>3.06</td>\n      <td>0.34</td>\n      <td>-4.32</td>\n      <td>1.07</td>\n    </tr>\n    <tr>\n      <td>2</td>\n      <td>NaN</td>\n      <td>NaN</td>\n      <td>NaN</td>\n      <td>NaN</td>\n      <td>9.03</td>\n      <td>9.27</td>\n      <td>9.03</td>\n      <td>9.27</td>\n      <td>NaN</td>\n      <td>NaN</td>\n      <td>...</td>\n      <td>NaN</td>\n      <td>NaN</td>\n      <td>NaN</td>\n      <td>9.08</td>\n      <td>NaN</td>\n      <td>NaN</td>\n      <td>NaN</td>\n      <td>NaN</td>\n      <td>NaN</td>\n      <td>NaN</td>\n    </tr>\n    <tr>\n      <td>3</td>\n      <td>NaN</td>\n      <td>8.35</td>\n      <td>NaN</td>\n      <td>NaN</td>\n      <td>1.80</td>\n      <td>8.16</td>\n      <td>-2.82</td>\n      <td>6.21</td>\n      <td>NaN</td>\n      <td>1.84</td>\n      <td>...</td>\n      <td>NaN</td>\n      <td>NaN</td>\n      <td>NaN</td>\n      <td>0.53</td>\n      <td>NaN</td>\n      <td>NaN</td>\n      <td>NaN</td>\n      <td>NaN</td>\n      <td>NaN</td>\n      <td>NaN</td>\n    </tr>\n    <tr>\n      <td>4</td>\n      <td>8.50</td>\n      <td>4.61</td>\n      <td>-4.17</td>\n      <td>-5.39</td>\n      <td>1.36</td>\n      <td>1.60</td>\n      <td>7.04</td>\n      <td>4.61</td>\n      <td>-0.44</td>\n      <td>5.73</td>\n      <td>...</td>\n      <td>5.19</td>\n      <td>5.58</td>\n      <td>4.27</td>\n      <td>5.19</td>\n      <td>5.73</td>\n      <td>1.55</td>\n      <td>3.11</td>\n      <td>6.55</td>\n      <td>1.80</td>\n      <td>1.60</td>\n    </tr>\n    <tr>\n      <td>5</td>\n      <td>-6.17</td>\n      <td>-3.54</td>\n      <td>0.44</td>\n      <td>-8.50</td>\n      <td>-7.09</td>\n      <td>-4.32</td>\n      <td>-8.69</td>\n      <td>-0.87</td>\n      <td>-6.65</td>\n      <td>-1.80</td>\n      <td>...</td>\n      <td>-3.54</td>\n      <td>-6.89</td>\n      <td>-0.68</td>\n      <td>-2.96</td>\n      <td>-2.18</td>\n      <td>-3.35</td>\n      <td>0.05</td>\n      <td>-9.08</td>\n      <td>-5.05</td>\n      <td>-3.45</td>\n    </tr>\n  </tbody>\n</table>\n<p>6 rows × 100 columns</p>\n</div>"
     },
     "metadata": {},
     "execution_count": 49
    }
   ],
   "source": [
    "df.index = range(df.shape[0])\n",
    "df.index.name = \"User ID\"\n",
    "col_names = [\"joke\"+str(i) for i in range(1, df.shape[1])]\n",
    "df.columns = [\"NumRated\"] + col_names\n",
    "df[df==99.0] = np.nan\n",
    "df = df.loc[:, df.columns != \"NumRated\"]\n",
    "df.head(6)"
   ]
  },
  {
   "cell_type": "code",
   "execution_count": 115,
   "metadata": {},
   "outputs": [
    {
     "output_type": "stream",
     "name": "stdout",
     "text": [
      "UserID\n0       -3.431892\n1        2.746300\n2        7.099388\n3        2.658125\n4        3.252637\n           ...   \n73416    8.257619\n73417    5.315625\n73418    1.224857\n73419    8.575714\n73420    4.899143\nLength: 73421, dtype: float64\n"
     ]
    },
    {
     "output_type": "execute_result",
     "data": {
      "text/plain": [
       "           joke1      joke2     joke3     joke4     joke5      joke6  \\\n",
       "UserID                                                                 \n",
       "0      -4.388108  12.221892 -6.228108 -4.728108 -4.088108  -5.068108   \n",
       "1       1.333700  -3.036300  3.613700  1.623700 -5.126300 -12.406300   \n",
       "2            NaN        NaN       NaN       NaN  1.930612   2.170612   \n",
       "3            NaN   5.691875       NaN       NaN -0.858125   5.501875   \n",
       "4       5.247363   1.357363 -7.422637 -8.642637 -1.892637  -1.652637   \n",
       "5      -1.272300   1.357700  5.337700 -3.602300 -2.192300   0.577700   \n",
       "\n",
       "           joke7     joke8     joke9    joke10  ...    joke91    joke92  \\\n",
       "UserID                                          ...                       \n",
       "0      -6.418108  7.601892 -5.548108 -1.328108  ...  6.251892       NaN   \n",
       "1      -3.476300 -8.086300  6.133700  6.473700  ...  0.073700 -7.696300   \n",
       "2       1.930612  2.170612       NaN       NaN  ...       NaN       NaN   \n",
       "3      -5.478125  3.551875       NaN -0.818125  ...       NaN       NaN   \n",
       "4       3.787363  1.357363 -3.692637  2.477363  ...  1.937363  2.327363   \n",
       "5      -3.792300  4.027700 -1.752300  3.097700  ...  1.357700 -1.992300   \n",
       "\n",
       "          joke93    joke94    joke95    joke96    joke97    joke98    joke99  \\\n",
       "UserID                                                                         \n",
       "0            NaN       NaN       NaN       NaN -2.198108       NaN       NaN   \n",
       "1      -3.036300  5.113700 -2.936300 -4.886300  0.313700 -2.406300 -7.066300   \n",
       "2            NaN  1.980612       NaN       NaN       NaN       NaN       NaN   \n",
       "3            NaN -2.128125       NaN       NaN       NaN       NaN       NaN   \n",
       "4       1.017363  1.937363  2.477363 -1.702637 -0.142637  3.297363 -1.452637   \n",
       "5       4.217700  1.937700  2.717700  1.547700  4.947700 -4.182300 -0.152300   \n",
       "\n",
       "         joke100  \n",
       "UserID            \n",
       "0            NaN  \n",
       "1      -1.676300  \n",
       "2            NaN  \n",
       "3            NaN  \n",
       "4      -1.652637  \n",
       "5       1.447700  \n",
       "\n",
       "[6 rows x 100 columns]"
      ],
      "text/html": "<div>\n<style scoped>\n    .dataframe tbody tr th:only-of-type {\n        vertical-align: middle;\n    }\n\n    .dataframe tbody tr th {\n        vertical-align: top;\n    }\n\n    .dataframe thead th {\n        text-align: right;\n    }\n</style>\n<table border=\"1\" class=\"dataframe\">\n  <thead>\n    <tr style=\"text-align: right;\">\n      <th></th>\n      <th>joke1</th>\n      <th>joke2</th>\n      <th>joke3</th>\n      <th>joke4</th>\n      <th>joke5</th>\n      <th>joke6</th>\n      <th>joke7</th>\n      <th>joke8</th>\n      <th>joke9</th>\n      <th>joke10</th>\n      <th>...</th>\n      <th>joke91</th>\n      <th>joke92</th>\n      <th>joke93</th>\n      <th>joke94</th>\n      <th>joke95</th>\n      <th>joke96</th>\n      <th>joke97</th>\n      <th>joke98</th>\n      <th>joke99</th>\n      <th>joke100</th>\n    </tr>\n    <tr>\n      <th>UserID</th>\n      <th></th>\n      <th></th>\n      <th></th>\n      <th></th>\n      <th></th>\n      <th></th>\n      <th></th>\n      <th></th>\n      <th></th>\n      <th></th>\n      <th></th>\n      <th></th>\n      <th></th>\n      <th></th>\n      <th></th>\n      <th></th>\n      <th></th>\n      <th></th>\n      <th></th>\n      <th></th>\n      <th></th>\n    </tr>\n  </thead>\n  <tbody>\n    <tr>\n      <td>0</td>\n      <td>-4.388108</td>\n      <td>12.221892</td>\n      <td>-6.228108</td>\n      <td>-4.728108</td>\n      <td>-4.088108</td>\n      <td>-5.068108</td>\n      <td>-6.418108</td>\n      <td>7.601892</td>\n      <td>-5.548108</td>\n      <td>-1.328108</td>\n      <td>...</td>\n      <td>6.251892</td>\n      <td>NaN</td>\n      <td>NaN</td>\n      <td>NaN</td>\n      <td>NaN</td>\n      <td>NaN</td>\n      <td>-2.198108</td>\n      <td>NaN</td>\n      <td>NaN</td>\n      <td>NaN</td>\n    </tr>\n    <tr>\n      <td>1</td>\n      <td>1.333700</td>\n      <td>-3.036300</td>\n      <td>3.613700</td>\n      <td>1.623700</td>\n      <td>-5.126300</td>\n      <td>-12.406300</td>\n      <td>-3.476300</td>\n      <td>-8.086300</td>\n      <td>6.133700</td>\n      <td>6.473700</td>\n      <td>...</td>\n      <td>0.073700</td>\n      <td>-7.696300</td>\n      <td>-3.036300</td>\n      <td>5.113700</td>\n      <td>-2.936300</td>\n      <td>-4.886300</td>\n      <td>0.313700</td>\n      <td>-2.406300</td>\n      <td>-7.066300</td>\n      <td>-1.676300</td>\n    </tr>\n    <tr>\n      <td>2</td>\n      <td>NaN</td>\n      <td>NaN</td>\n      <td>NaN</td>\n      <td>NaN</td>\n      <td>1.930612</td>\n      <td>2.170612</td>\n      <td>1.930612</td>\n      <td>2.170612</td>\n      <td>NaN</td>\n      <td>NaN</td>\n      <td>...</td>\n      <td>NaN</td>\n      <td>NaN</td>\n      <td>NaN</td>\n      <td>1.980612</td>\n      <td>NaN</td>\n      <td>NaN</td>\n      <td>NaN</td>\n      <td>NaN</td>\n      <td>NaN</td>\n      <td>NaN</td>\n    </tr>\n    <tr>\n      <td>3</td>\n      <td>NaN</td>\n      <td>5.691875</td>\n      <td>NaN</td>\n      <td>NaN</td>\n      <td>-0.858125</td>\n      <td>5.501875</td>\n      <td>-5.478125</td>\n      <td>3.551875</td>\n      <td>NaN</td>\n      <td>-0.818125</td>\n      <td>...</td>\n      <td>NaN</td>\n      <td>NaN</td>\n      <td>NaN</td>\n      <td>-2.128125</td>\n      <td>NaN</td>\n      <td>NaN</td>\n      <td>NaN</td>\n      <td>NaN</td>\n      <td>NaN</td>\n      <td>NaN</td>\n    </tr>\n    <tr>\n      <td>4</td>\n      <td>5.247363</td>\n      <td>1.357363</td>\n      <td>-7.422637</td>\n      <td>-8.642637</td>\n      <td>-1.892637</td>\n      <td>-1.652637</td>\n      <td>3.787363</td>\n      <td>1.357363</td>\n      <td>-3.692637</td>\n      <td>2.477363</td>\n      <td>...</td>\n      <td>1.937363</td>\n      <td>2.327363</td>\n      <td>1.017363</td>\n      <td>1.937363</td>\n      <td>2.477363</td>\n      <td>-1.702637</td>\n      <td>-0.142637</td>\n      <td>3.297363</td>\n      <td>-1.452637</td>\n      <td>-1.652637</td>\n    </tr>\n    <tr>\n      <td>5</td>\n      <td>-1.272300</td>\n      <td>1.357700</td>\n      <td>5.337700</td>\n      <td>-3.602300</td>\n      <td>-2.192300</td>\n      <td>0.577700</td>\n      <td>-3.792300</td>\n      <td>4.027700</td>\n      <td>-1.752300</td>\n      <td>3.097700</td>\n      <td>...</td>\n      <td>1.357700</td>\n      <td>-1.992300</td>\n      <td>4.217700</td>\n      <td>1.937700</td>\n      <td>2.717700</td>\n      <td>1.547700</td>\n      <td>4.947700</td>\n      <td>-4.182300</td>\n      <td>-0.152300</td>\n      <td>1.447700</td>\n    </tr>\n  </tbody>\n</table>\n<p>6 rows × 100 columns</p>\n</div>"
     },
     "metadata": {},
     "execution_count": 115
    }
   ],
   "source": [
    "#normalization\n",
    "def normalize_data(dataframe): \n",
    "    mean_data = dataframe.sum(axis=1, numeric_only=True)/dataframe.count(1)\n",
    "    print(mean_data)\n",
    "    return dataframe.subtract(mean_data, axis='rows')\n",
    "normalized_df = normalize_data(df)\n",
    "normalized_df.head(6)"
   ]
  },
  {
   "cell_type": "code",
   "execution_count": 116,
   "metadata": {},
   "outputs": [],
   "source": [
    "#similarity computation\n",
    "def cosine_similarity(new_user,dataframe): \n",
    "    numerator = np.nansum(dataframe * new_user, axis=1)\n",
    "    norm_user = np.sqrt(np.nansum(np.power(new_user, 2)))\n",
    "    norm_df = np.sqrt(np.nansum(np.power(dataframe, 2), axis=1))\n",
    "    sim = numerator / (norm_user * norm_df)\n",
    "    sim = np.nan_to_num(sim)\n",
    "    most_similar = np.sort(sim)[-20:]\n",
    "    most_similar_idx = np.argsort(sim)[-20:]\n",
    "    return (most_similar, most_similar_idx)\n",
    "\n",
    "def get_top_smilar_jokes(most_similar, top_user_matrix): \n",
    "    top_jokes = np.nansum(top_user_matrix.T * most_similar, axis=1)/np.sum(most_similar)\n",
    "    top_5 = np.argsort(top_jokes)[-5:]\n",
    "    return top_5 \n",
    "\n"
   ]
  },
  {
   "cell_type": "code",
   "execution_count": 138,
   "metadata": {},
   "outputs": [
    {
     "output_type": "stream",
     "name": "stdout",
     "text": [
      "[61 34 31 48 35]\nThe jokes actual rankings are:\njoke62    3.59\njoke35    5.05\njoke32   -4.08\njoke49    3.93\njoke36    4.95\nName: 0, dtype: float64\n"
     ]
    }
   ],
   "source": [
    "gauge_set = [7, 8, 13, 15, 16, 17, 18, 19] #using PCA \n",
    "# gauge_set = list(range(25))\n",
    "new_user = normalized_df.iloc[46].copy() \n",
    "new_user[:] = np.nan\n",
    "new_user.iloc[gauge_set] = normalized_df.iloc[12,gauge_set]\n",
    "most_similar, most_similar_idx = cosine_similarity(new_user,normalized_df)\n",
    "top_user_matrix = normalized_df.iloc[most_similar_idx].copy()\n",
    "top_5 = get_top_smilar_jokes(most_similar, top_user_matrix)\n",
    "print(top_5)\n",
    "print(\"The jokes actual rankings are:\\n{}\".format(df.iloc[0, list(top_5)]))"
   ]
  },
  {
   "cell_type": "code",
   "execution_count": null,
   "metadata": {},
   "outputs": [],
   "source": []
  }
 ]
}