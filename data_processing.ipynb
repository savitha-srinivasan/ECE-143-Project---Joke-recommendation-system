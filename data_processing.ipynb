{
 "metadata": {
  "language_info": {
   "codemirror_mode": {
    "name": "ipython",
    "version": 3
   },
   "file_extension": ".py",
   "mimetype": "text/x-python",
   "name": "python",
   "nbconvert_exporter": "python",
   "pygments_lexer": "ipython3",
   "version": "3.7.4"
  },
  "orig_nbformat": 2,
  "kernelspec": {
   "name": "python3",
   "display_name": "Python 3",
   "language": "python"
  }
 },
 "nbformat": 4,
 "nbformat_minor": 2,
 "cells": [
  {
   "cell_type": "code",
   "execution_count": 2,
   "metadata": {},
   "outputs": [],
   "source": [
    "import numpy as np \n",
    "import os \n",
    "import pandas as pd \n",
    "import matplotlib.pyplot as plt \n",
    "import scipy.stats"
   ]
  },
  {
   "cell_type": "code",
   "execution_count": 3,
   "metadata": {},
   "outputs": [],
   "source": [
    "data_dir = \"C:/Users/Savitha Srinivasan/UCSD assn/ECE 143/ECE-143-Project---Joke-recommendation-system/dataset/JesterDataset4/[final] April 2015 to Nov 30 2019 - Transformed Jester Data - .xlsx\"\n",
    "df = pd.DataFrame(pd.read_excel(data_dir))"
   ]
  },
  {
   "cell_type": "code",
   "execution_count": 4,
   "metadata": {},
   "outputs": [
    {
     "output_type": "execute_result",
     "data": {
      "text/plain": [
       "        joke1  joke2  joke3  joke4  joke5  joke6  joke7  joke8  joke9  joke10  \\\n",
       "UserID                                                                          \n",
       "0         NaN    NaN    NaN    NaN    NaN    NaN    NaN    NaN    NaN     NaN   \n",
       "1         NaN    NaN    NaN    NaN    NaN    NaN    NaN    NaN    NaN     NaN   \n",
       "2         NaN    NaN    NaN    NaN    NaN    NaN    NaN    NaN    NaN     NaN   \n",
       "3         NaN    NaN    NaN    NaN    NaN    NaN    NaN    NaN    NaN     NaN   \n",
       "4         NaN    NaN    NaN    NaN    NaN    NaN    NaN    NaN    NaN     NaN   \n",
       "5         NaN    NaN    NaN    NaN    NaN    NaN  -4.45   7.54    NaN     NaN   \n",
       "\n",
       "        ...  joke149  joke150  joke151  joke152  joke153  joke154  joke155  \\\n",
       "UserID  ...                                                                  \n",
       "0       ...      NaN      NaN      NaN      NaN      NaN      NaN      NaN   \n",
       "1       ...      NaN      NaN      NaN      NaN      NaN      NaN      NaN   \n",
       "2       ...      NaN      NaN     5.61    -4.51     0.00     0.00      NaN   \n",
       "3       ...      NaN      NaN      NaN      NaN      NaN     0.00      NaN   \n",
       "4       ...      NaN     3.19      NaN     0.00     3.41      NaN    -2.32   \n",
       "5       ...    -1.97     1.89     0.00     0.00     7.38     3.19    -9.33   \n",
       "\n",
       "        joke156  joke157  joke158  \n",
       "UserID                             \n",
       "0           NaN      NaN      NaN  \n",
       "1           NaN      NaN      NaN  \n",
       "2          0.00     5.93     4.19  \n",
       "3           NaN      NaN     0.00  \n",
       "4           NaN     0.00     2.93  \n",
       "5         -7.26    -9.13    -8.19  \n",
       "\n",
       "[6 rows x 158 columns]"
      ],
      "text/html": "<div>\n<style scoped>\n    .dataframe tbody tr th:only-of-type {\n        vertical-align: middle;\n    }\n\n    .dataframe tbody tr th {\n        vertical-align: top;\n    }\n\n    .dataframe thead th {\n        text-align: right;\n    }\n</style>\n<table border=\"1\" class=\"dataframe\">\n  <thead>\n    <tr style=\"text-align: right;\">\n      <th></th>\n      <th>joke1</th>\n      <th>joke2</th>\n      <th>joke3</th>\n      <th>joke4</th>\n      <th>joke5</th>\n      <th>joke6</th>\n      <th>joke7</th>\n      <th>joke8</th>\n      <th>joke9</th>\n      <th>joke10</th>\n      <th>...</th>\n      <th>joke149</th>\n      <th>joke150</th>\n      <th>joke151</th>\n      <th>joke152</th>\n      <th>joke153</th>\n      <th>joke154</th>\n      <th>joke155</th>\n      <th>joke156</th>\n      <th>joke157</th>\n      <th>joke158</th>\n    </tr>\n    <tr>\n      <th>UserID</th>\n      <th></th>\n      <th></th>\n      <th></th>\n      <th></th>\n      <th></th>\n      <th></th>\n      <th></th>\n      <th></th>\n      <th></th>\n      <th></th>\n      <th></th>\n      <th></th>\n      <th></th>\n      <th></th>\n      <th></th>\n      <th></th>\n      <th></th>\n      <th></th>\n      <th></th>\n      <th></th>\n      <th></th>\n    </tr>\n  </thead>\n  <tbody>\n    <tr>\n      <td>0</td>\n      <td>NaN</td>\n      <td>NaN</td>\n      <td>NaN</td>\n      <td>NaN</td>\n      <td>NaN</td>\n      <td>NaN</td>\n      <td>NaN</td>\n      <td>NaN</td>\n      <td>NaN</td>\n      <td>NaN</td>\n      <td>...</td>\n      <td>NaN</td>\n      <td>NaN</td>\n      <td>NaN</td>\n      <td>NaN</td>\n      <td>NaN</td>\n      <td>NaN</td>\n      <td>NaN</td>\n      <td>NaN</td>\n      <td>NaN</td>\n      <td>NaN</td>\n    </tr>\n    <tr>\n      <td>1</td>\n      <td>NaN</td>\n      <td>NaN</td>\n      <td>NaN</td>\n      <td>NaN</td>\n      <td>NaN</td>\n      <td>NaN</td>\n      <td>NaN</td>\n      <td>NaN</td>\n      <td>NaN</td>\n      <td>NaN</td>\n      <td>...</td>\n      <td>NaN</td>\n      <td>NaN</td>\n      <td>NaN</td>\n      <td>NaN</td>\n      <td>NaN</td>\n      <td>NaN</td>\n      <td>NaN</td>\n      <td>NaN</td>\n      <td>NaN</td>\n      <td>NaN</td>\n    </tr>\n    <tr>\n      <td>2</td>\n      <td>NaN</td>\n      <td>NaN</td>\n      <td>NaN</td>\n      <td>NaN</td>\n      <td>NaN</td>\n      <td>NaN</td>\n      <td>NaN</td>\n      <td>NaN</td>\n      <td>NaN</td>\n      <td>NaN</td>\n      <td>...</td>\n      <td>NaN</td>\n      <td>NaN</td>\n      <td>5.61</td>\n      <td>-4.51</td>\n      <td>0.00</td>\n      <td>0.00</td>\n      <td>NaN</td>\n      <td>0.00</td>\n      <td>5.93</td>\n      <td>4.19</td>\n    </tr>\n    <tr>\n      <td>3</td>\n      <td>NaN</td>\n      <td>NaN</td>\n      <td>NaN</td>\n      <td>NaN</td>\n      <td>NaN</td>\n      <td>NaN</td>\n      <td>NaN</td>\n      <td>NaN</td>\n      <td>NaN</td>\n      <td>NaN</td>\n      <td>...</td>\n      <td>NaN</td>\n      <td>NaN</td>\n      <td>NaN</td>\n      <td>NaN</td>\n      <td>NaN</td>\n      <td>0.00</td>\n      <td>NaN</td>\n      <td>NaN</td>\n      <td>NaN</td>\n      <td>0.00</td>\n    </tr>\n    <tr>\n      <td>4</td>\n      <td>NaN</td>\n      <td>NaN</td>\n      <td>NaN</td>\n      <td>NaN</td>\n      <td>NaN</td>\n      <td>NaN</td>\n      <td>NaN</td>\n      <td>NaN</td>\n      <td>NaN</td>\n      <td>NaN</td>\n      <td>...</td>\n      <td>NaN</td>\n      <td>3.19</td>\n      <td>NaN</td>\n      <td>0.00</td>\n      <td>3.41</td>\n      <td>NaN</td>\n      <td>-2.32</td>\n      <td>NaN</td>\n      <td>0.00</td>\n      <td>2.93</td>\n    </tr>\n    <tr>\n      <td>5</td>\n      <td>NaN</td>\n      <td>NaN</td>\n      <td>NaN</td>\n      <td>NaN</td>\n      <td>NaN</td>\n      <td>NaN</td>\n      <td>-4.45</td>\n      <td>7.54</td>\n      <td>NaN</td>\n      <td>NaN</td>\n      <td>...</td>\n      <td>-1.97</td>\n      <td>1.89</td>\n      <td>0.00</td>\n      <td>0.00</td>\n      <td>7.38</td>\n      <td>3.19</td>\n      <td>-9.33</td>\n      <td>-7.26</td>\n      <td>-9.13</td>\n      <td>-8.19</td>\n    </tr>\n  </tbody>\n</table>\n<p>6 rows × 158 columns</p>\n</div>"
     },
     "metadata": {},
     "execution_count": 4
    }
   ],
   "source": [
    "df.index = range(df.shape[0])\n",
    "df.index.name = \"UserID\"\n",
    "col_names = [\"joke\"+str(i) for i in range(1, df.shape[1])]\n",
    "df.columns = [\"NumRated\"] + col_names\n",
    "df[df==99.0] = np.nan\n",
    "df = df.loc[:, df.columns != \"NumRated\"]\n",
    "df.head(6)"
   ]
  },
  {
   "cell_type": "code",
   "execution_count": 5,
   "metadata": {},
   "outputs": [
    {
     "output_type": "stream",
     "name": "stdout",
     "text": [
      "UserID\n0       8.210000\n1      -1.057500\n2       1.111064\n3      -0.253077\n4       3.009091\n          ...   \n7693    0.350741\n7694   -9.510000\n7695    1.804231\n7696    1.904531\n7697    4.225000\nLength: 7698, dtype: float64\n"
     ]
    },
    {
     "output_type": "execute_result",
     "data": {
      "text/plain": [
       "        joke1  joke2  joke3  joke4  joke5  joke6     joke7     joke8  joke9  \\\n",
       "UserID                                                                        \n",
       "0         NaN    NaN    NaN    NaN    NaN    NaN       NaN       NaN    NaN   \n",
       "1         NaN    NaN    NaN    NaN    NaN    NaN       NaN       NaN    NaN   \n",
       "2         NaN    NaN    NaN    NaN    NaN    NaN       NaN       NaN    NaN   \n",
       "3         NaN    NaN    NaN    NaN    NaN    NaN       NaN       NaN    NaN   \n",
       "4         NaN    NaN    NaN    NaN    NaN    NaN       NaN       NaN    NaN   \n",
       "5         NaN    NaN    NaN    NaN    NaN    NaN -3.491964  8.498036    NaN   \n",
       "\n",
       "        joke10  ...   joke149   joke150   joke151   joke152   joke153  \\\n",
       "UserID          ...                                                     \n",
       "0          NaN  ...       NaN       NaN       NaN       NaN       NaN   \n",
       "1          NaN  ...       NaN       NaN       NaN       NaN       NaN   \n",
       "2          NaN  ...       NaN       NaN  4.498936 -5.621064 -1.111064   \n",
       "3          NaN  ...       NaN       NaN       NaN       NaN       NaN   \n",
       "4          NaN  ...       NaN  0.180909       NaN -3.009091  0.400909   \n",
       "5          NaN  ... -1.011964  2.848036  0.958036  0.958036  8.338036   \n",
       "\n",
       "         joke154   joke155   joke156   joke157   joke158  \n",
       "UserID                                                    \n",
       "0            NaN       NaN       NaN       NaN       NaN  \n",
       "1            NaN       NaN       NaN       NaN       NaN  \n",
       "2      -1.111064       NaN -1.111064  4.818936  3.078936  \n",
       "3       0.253077       NaN       NaN       NaN  0.253077  \n",
       "4            NaN -5.329091       NaN -3.009091 -0.079091  \n",
       "5       4.148036 -8.371964 -6.301964 -8.171964 -7.231964  \n",
       "\n",
       "[6 rows x 158 columns]"
      ],
      "text/html": "<div>\n<style scoped>\n    .dataframe tbody tr th:only-of-type {\n        vertical-align: middle;\n    }\n\n    .dataframe tbody tr th {\n        vertical-align: top;\n    }\n\n    .dataframe thead th {\n        text-align: right;\n    }\n</style>\n<table border=\"1\" class=\"dataframe\">\n  <thead>\n    <tr style=\"text-align: right;\">\n      <th></th>\n      <th>joke1</th>\n      <th>joke2</th>\n      <th>joke3</th>\n      <th>joke4</th>\n      <th>joke5</th>\n      <th>joke6</th>\n      <th>joke7</th>\n      <th>joke8</th>\n      <th>joke9</th>\n      <th>joke10</th>\n      <th>...</th>\n      <th>joke149</th>\n      <th>joke150</th>\n      <th>joke151</th>\n      <th>joke152</th>\n      <th>joke153</th>\n      <th>joke154</th>\n      <th>joke155</th>\n      <th>joke156</th>\n      <th>joke157</th>\n      <th>joke158</th>\n    </tr>\n    <tr>\n      <th>UserID</th>\n      <th></th>\n      <th></th>\n      <th></th>\n      <th></th>\n      <th></th>\n      <th></th>\n      <th></th>\n      <th></th>\n      <th></th>\n      <th></th>\n      <th></th>\n      <th></th>\n      <th></th>\n      <th></th>\n      <th></th>\n      <th></th>\n      <th></th>\n      <th></th>\n      <th></th>\n      <th></th>\n      <th></th>\n    </tr>\n  </thead>\n  <tbody>\n    <tr>\n      <td>0</td>\n      <td>NaN</td>\n      <td>NaN</td>\n      <td>NaN</td>\n      <td>NaN</td>\n      <td>NaN</td>\n      <td>NaN</td>\n      <td>NaN</td>\n      <td>NaN</td>\n      <td>NaN</td>\n      <td>NaN</td>\n      <td>...</td>\n      <td>NaN</td>\n      <td>NaN</td>\n      <td>NaN</td>\n      <td>NaN</td>\n      <td>NaN</td>\n      <td>NaN</td>\n      <td>NaN</td>\n      <td>NaN</td>\n      <td>NaN</td>\n      <td>NaN</td>\n    </tr>\n    <tr>\n      <td>1</td>\n      <td>NaN</td>\n      <td>NaN</td>\n      <td>NaN</td>\n      <td>NaN</td>\n      <td>NaN</td>\n      <td>NaN</td>\n      <td>NaN</td>\n      <td>NaN</td>\n      <td>NaN</td>\n      <td>NaN</td>\n      <td>...</td>\n      <td>NaN</td>\n      <td>NaN</td>\n      <td>NaN</td>\n      <td>NaN</td>\n      <td>NaN</td>\n      <td>NaN</td>\n      <td>NaN</td>\n      <td>NaN</td>\n      <td>NaN</td>\n      <td>NaN</td>\n    </tr>\n    <tr>\n      <td>2</td>\n      <td>NaN</td>\n      <td>NaN</td>\n      <td>NaN</td>\n      <td>NaN</td>\n      <td>NaN</td>\n      <td>NaN</td>\n      <td>NaN</td>\n      <td>NaN</td>\n      <td>NaN</td>\n      <td>NaN</td>\n      <td>...</td>\n      <td>NaN</td>\n      <td>NaN</td>\n      <td>4.498936</td>\n      <td>-5.621064</td>\n      <td>-1.111064</td>\n      <td>-1.111064</td>\n      <td>NaN</td>\n      <td>-1.111064</td>\n      <td>4.818936</td>\n      <td>3.078936</td>\n    </tr>\n    <tr>\n      <td>3</td>\n      <td>NaN</td>\n      <td>NaN</td>\n      <td>NaN</td>\n      <td>NaN</td>\n      <td>NaN</td>\n      <td>NaN</td>\n      <td>NaN</td>\n      <td>NaN</td>\n      <td>NaN</td>\n      <td>NaN</td>\n      <td>...</td>\n      <td>NaN</td>\n      <td>NaN</td>\n      <td>NaN</td>\n      <td>NaN</td>\n      <td>NaN</td>\n      <td>0.253077</td>\n      <td>NaN</td>\n      <td>NaN</td>\n      <td>NaN</td>\n      <td>0.253077</td>\n    </tr>\n    <tr>\n      <td>4</td>\n      <td>NaN</td>\n      <td>NaN</td>\n      <td>NaN</td>\n      <td>NaN</td>\n      <td>NaN</td>\n      <td>NaN</td>\n      <td>NaN</td>\n      <td>NaN</td>\n      <td>NaN</td>\n      <td>NaN</td>\n      <td>...</td>\n      <td>NaN</td>\n      <td>0.180909</td>\n      <td>NaN</td>\n      <td>-3.009091</td>\n      <td>0.400909</td>\n      <td>NaN</td>\n      <td>-5.329091</td>\n      <td>NaN</td>\n      <td>-3.009091</td>\n      <td>-0.079091</td>\n    </tr>\n    <tr>\n      <td>5</td>\n      <td>NaN</td>\n      <td>NaN</td>\n      <td>NaN</td>\n      <td>NaN</td>\n      <td>NaN</td>\n      <td>NaN</td>\n      <td>-3.491964</td>\n      <td>8.498036</td>\n      <td>NaN</td>\n      <td>NaN</td>\n      <td>...</td>\n      <td>-1.011964</td>\n      <td>2.848036</td>\n      <td>0.958036</td>\n      <td>0.958036</td>\n      <td>8.338036</td>\n      <td>4.148036</td>\n      <td>-8.371964</td>\n      <td>-6.301964</td>\n      <td>-8.171964</td>\n      <td>-7.231964</td>\n    </tr>\n  </tbody>\n</table>\n<p>6 rows × 158 columns</p>\n</div>"
     },
     "metadata": {},
     "execution_count": 5
    }
   ],
   "source": [
    "#normalization\n",
    "def normalize_data(dataframe): \n",
    "    mean_data = dataframe.sum(axis=1, numeric_only=True)/dataframe.count(1)\n",
    "    print(mean_data)\n",
    "    return dataframe.subtract(mean_data, axis='rows')\n",
    "normalized_df = normalize_data(df)\n",
    "normalized_df.head(6)"
   ]
  },
  {
   "cell_type": "code",
   "execution_count": 6,
   "metadata": {},
   "outputs": [],
   "source": [
    "#similarity computation\n",
    "def cosine_similarity(new_user,dataframe): \n",
    "    numerator = np.nansum(dataframe * new_user, axis=1)\n",
    "    norm_user = np.sqrt(np.nansum(np.power(new_user, 2)))\n",
    "    norm_df = np.sqrt(np.nansum(np.power(dataframe, 2), axis=1))\n",
    "    sim = numerator / (norm_user * norm_df)\n",
    "    sim = np.nan_to_num(sim)\n",
    "    return sim"
   ]
  }
 ]
}