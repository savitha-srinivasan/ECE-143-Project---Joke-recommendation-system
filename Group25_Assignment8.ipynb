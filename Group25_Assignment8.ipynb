{
 "metadata": {
  "language_info": {
   "codemirror_mode": {
    "name": "ipython",
    "version": 3
   },
   "file_extension": ".py",
   "mimetype": "text/x-python",
   "name": "python",
   "nbconvert_exporter": "python",
   "pygments_lexer": "ipython3",
   "version": 3
  },
  "orig_nbformat": 2
 },
 "nbformat": 4,
 "nbformat_minor": 2,
 "cells": [
  {
   "source": [
    "## Question: Next permutation \n",
    "\n",
    "Given a permutation of any length,\n",
    "         generate the next permutation in lexicographic order. \n",
    "         For example, this are the permutations for [1,2,3] in lexicographic order.\n",
    "\n",
    "        >>> list(it.permutations([1,2,3]))\n",
    "        [(1, 2, 3), (1, 3, 2), (2, 1, 3), (2, 3, 1), (3, 1, 2), (3, 2, 1)] \n",
    "        Then, your function next_permutation(t:tuple)->tuple should do the following\n",
    "\n",
    "        >>> next_permutation((2,3,1))\n",
    "        (3,1,2) \n",
    "        Because (3,1,2) is the next permutation in lexicographic order. Here is another example:\n",
    "\n",
    "        >>> next_permutation((0, 5, 2, 1, 4, 7, 3, 6))\n",
    "        (0, 5, 2, 1, 4, 7, 6, 3) \n",
    "        Your function should work for very long input tuples so\n",
    "         the autograder will time-out if you try to brute force your solution. \n",
    "         The last permutation should wrap aruond to the first.\n",
    "\n",
    "        >>> next_permutation((3,2,1,0))\n",
    "        (0, 1, 2, 3)\n",
    "\n",
    "## Question: Polynomial Class\n",
    "Create a Python class that can implement a univariate polynomial with degree at least one (Polynomial) over the field of integers (only!) with the following operations and interfaces."
   ],
   "cell_type": "markdown",
   "metadata": {}
  },
  {
   "cell_type": "code",
   "execution_count": null,
   "metadata": {},
   "outputs": [],
   "source": [
    "#Validation tests \n",
    "assert isinstance(tup, tuple), \"input must be a tuple\"\n",
    "for i in tup: \n",
    "    assert i>=0, \"Values in the tuple must be positive numbers\"\n",
    "assert len(set(tup))==len(tup) \"Values in the tuple must be unique\""
   ]
  },
  {
   "cell_type": "code",
   "execution_count": null,
   "metadata": {},
   "outputs": [],
   "source": [
    "#Functional tests \n",
    "data = (1,2,3)\n",
    "assert next_permutation(data)==(1,3,2), \"simple functional test\""
   ]
  },
  {
   "cell_type": "code",
   "execution_count": null,
   "metadata": {},
   "outputs": [],
   "source": [
    "data = (12,7,5,4,3,2,1)\n",
    "assert next_permutation(data)==(1, 2, 3, 4, 5, 7, 12), \"checking for input in descending order\""
   ]
  },
  {
   "cell_type": "code",
   "execution_count": null,
   "metadata": {},
   "outputs": [],
   "source": [
    "data = (4,6,2,1)\n",
    "assert next_permutation(data)==(6, 1, 2, 4), \"simple functional test\""
   ]
  },
  {
   "cell_type": "code",
   "execution_count": null,
   "metadata": {},
   "outputs": [],
   "source": [
    "data = (54, 55, 70, 87, 72, 1, 3, 5, 6, 7, 8, 9, 12, 13, 14, 16, 23, 32, 34, 45, 90, 98)\n",
    "assert next_permutation(data)==(54, 55, 70, 87, 72, 1, 3, 5, 6, 7, 8, 9, 12, 13, 14, 16, 23, 32, 34, 45, 98, 90), \"checking for a very long input\""
   ]
  }
 ]
}