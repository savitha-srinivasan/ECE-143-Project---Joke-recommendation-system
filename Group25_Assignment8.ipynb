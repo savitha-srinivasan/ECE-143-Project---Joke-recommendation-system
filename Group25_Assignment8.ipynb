{
 "cells": [
  {
   "source": [
    "# Team 25 Submission \n",
    "\n",
    "    Amrithaa Seshadri, Savitha Srinivasana, Bowen Sun, Pengpeng Sun, We-ru Lin"
   ],
   "cell_type": "markdown",
   "metadata": {}
  },
  {
   "source": [
    "# Next Permutation\n",
    "        \n",
    "    Given a permutation of any length,\n",
    "    generate the next permutation in lexicographic order. \n",
    "    For example, this are the permutations for [1,2,3] in lexicographic order.\n",
    "\n",
    "    >>> list(it.permutations([1,2,3]))\n",
    "    [(1, 2, 3), (1, 3, 2), (2, 1, 3), (2, 3, 1), (3, 1, 2), (3, 2, 1)] \n",
    "    Then, your function next_permutation(t:tuple)->tuple should do the following\n",
    "\n",
    "    >>> next_permutation((2,3,1))\n",
    "    (3,1,2) \n",
    "    Because (3,1,2) is the next permutation in lexicographic order. Here is another example:\n",
    "\n",
    "    >>> next_permutation((0, 5, 2, 1, 4, 7, 3, 6))\n",
    "    (0, 5, 2, 1, 4, 7, 6, 3) \n",
    "    Your function should work for very long input tuples so\n",
    "    the autograder will time-out if you try to brute force your solution. \n",
    "    The last permutation should wrap aruond to the first.\n",
    "\n",
    "    >>> next_permutation((3,2,1,0))\n",
    "    (0, 1, 2, 3) "
   ],
   "cell_type": "markdown",
   "metadata": {}
  },
  {
   "cell_type": "markdown",
   "metadata": {},
   "source": [
    "## Validation Tests\n",
    "Check for corner cases and constraints in the inputs enlist all cases used for testing"
   ]
  },
  {
   "cell_type": "code",
   "execution_count": null,
   "metadata": {},
   "outputs": [],
   "source": [
    "#Validation tests \n",
    "assert isinstance(tup, tuple), \"input must be a tuple\"\n",
    "for i in tup: \n",
    "    assert i>=0, \"Values in the tuple must be positive numbers\"\n",
    "assert len(set(tup))==len(tup) \"Values in the tuple must be unique\""
   ]
  },
  {
   "cell_type": "code",
   "execution_count": null,
   "metadata": {},
   "outputs": [],
   "source": []
  },
  {
   "cell_type": "markdown",
   "metadata": {},
   "source": [
    "## Functional Tests\n",
    "Check function output matches expected result enlist all cases used for testing"
   ]
  },
  {
   "cell_type": "code",
   "execution_count": null,
   "metadata": {},
   "outputs": [],
   "source": [
    "data = (1,2,3)\n",
    "assert next_permutation(data)==(1,3,2), \"simple functional test\""
   ]
  },
  {
   "cell_type": "code",
   "execution_count": null,
   "metadata": {},
   "outputs": [],
   "source": [
    "data = (12,7,5,4,3,2,1)\n",
    "assert next_permutation(data)==(1, 2, 3, 4, 5, 7, 12), \"checking for input in descending order\""
   ]
  },
  {
   "cell_type": "code",
   "execution_count": null,
   "metadata": {},
   "outputs": [],
   "source": [
    "data = (4,6,2,1)\n",
    "assert next_permutation(data)==(6, 1, 2, 4), \"simple functional test\""
   ]
  },
  {
   "cell_type": "code",
   "execution_count": null,
   "metadata": {},
   "outputs": [],
   "source": [
    "data = (54, 55, 70, 87, 72, 1, 3, 5, 6, 7, 8, 9, 12, 13, 14, 16, 23, 32, 34, 45, 90, 98)\n",
    "assert next_permutation(data)==(54, 55, 70, 87, 72, 1, 3, 5, 6, 7, 8, 9, 12, 13, 14, 16, 23, 32, 34, 45, 98, 90), \"checking for a very long input\""
   ]
  },
  {
   "cell_type": "code",
   "execution_count": null,
   "metadata": {},
   "outputs": [],
   "source": []
  },
  {
   "cell_type": "code",
   "execution_count": null,
   "metadata": {},
   "outputs": [],
   "source": []
  },
  {
   "source": [
    "# Water Traps\n",
    "        \n",
    "    You are given an array of non-negative integers that\n",
    "    represents a two-dimensional elevation map where each element is unit-width wall and\n",
    "    the integer value is the height. Suppose rain fills all available gaps between two bordering walls.\n",
    "\n",
    "    Compute how many units of water remain trapped between the walls in the map.\n",
    "\n",
    "    For example, given the input [2, 1, 2], we can hold 1 unit of water in the middle.\n",
    "    Here's another example for the sequence [3, 0, 1, 3, 0, 5] where the answer is 8,\n",
    "    Example\n",
    "\n",
    "    Here is the function signature get_trapped_water(seq) where seq is an input list,\n",
    "    as in the examples.\n",
    "    "
   ],
   "cell_type": "markdown",
   "metadata": {}
  },
  {
   "cell_type": "markdown",
   "metadata": {},
   "source": [
    "## Validation Tests\n",
    "Check for corner cases and constraints in the inputs enlist all cases used for testing"
   ]
  },
  {
   "cell_type": "code",
   "execution_count": null,
   "metadata": {},
   "outputs": [],
   "source": [
    "assert isinstance(seq,list) and len(seq)>0 \"seq must be a list and the length of seq must be greater than 0\"\n",
    "for num in seq:\n",
    "    assert isinstance(num, int) and num>=0 \"for each number in seq must be a integer and greater than 0\""
   ]
  },
  {
   "cell_type": "markdown",
   "metadata": {},
   "source": [
    "## Functional Tests\n",
    "Check function output matches expected result enlist all cases used for testing"
   ]
  },
  {
   "cell_type": "code",
   "execution_count": null,
   "metadata": {},
   "outputs": [],
   "source": [
    "data =[4,2,0,3,2,5] \n",
    "assert get_trapped_water(data)==9 \"Checking for the output is 9\"\n",
    "assert get_trapped_water(data)==8 \"Checking for the output is 8\""
   ]
  },
  {
   "cell_type": "code",
   "execution_count": null,
   "metadata": {},
   "outputs": [],
   "source": [
    "data=[0,1,0,2,1,0,1,3,2,1,2,1]\n",
    "assert get_trapped_water()==6 \"Checking for the output is 6\"\n",
    "assert get_trapped_water(data)==5 \"Checking for the output is 5\""
   ]
  },
  {
   "source": [
    "# Grid Path Searching\n",
    "    A two dimensional grid has M horizontal rows and N vertical columns. Let\n",
    "    (i,j)denote the square at the\n",
    "    (i + 1) t h row from the top and the\n",
    "    (j + 1 ) t h column from the left i.e., they are 0-indexed.\n",
    "\n",
    "    Within the grid, for each\n",
    "    i and  j ( 0 ≤ i ≤ M − 1 ,  0 ≤ j ≤ N − 1), there can only be two symbols # and .\n",
    "    where # denotes a blockage and . denotes a passable opening.\n",
    "    Starting at the upper left and only moving downwards and rightwards,\n",
    "    find the number of connected paths between\n",
    "    the top-left square and the bottom right square by traversing only the intermediate squares with the . symbol. The start and end positions are never be marked with #.\n",
    "\n",
    "    Example:\n",
    "\n",
    "    M=3 and N=4\n",
    "    ...#\n",
    "    .#..\n",
    "    ....\n",
    "    calling count_paths(3,4,[(0,3),(1,1)]) returns the answer is 3.\n",
    "    Here is the function signature: count_paths(m,n,blocks)\n",
    "    where m is the number of rows and n is the number of columns.\n",
    "    The blocks variable is a list of tuples indicating the blocked # entries in the grid.\n"
   ],
   "cell_type": "markdown",
   "metadata": {}
  },
  {
   "cell_type": "markdown",
   "metadata": {},
   "source": [
    "## Validation Test"
   ]
  },
  {
   "cell_type": "code",
   "execution_count": null,
   "metadata": {},
   "outputs": [],
   "source": [
    "assert isinstance(m, int), \"The first entry of the input must be integer\"\n",
    "assert isinstance(n, int), \"The second entry of the input must be integer\"\n",
    "assert isinstance(blocks, list), \"The third entry of the input must be a list\"\n",
    "for each_tuple in blocks:\n",
    "    assert isinstance(each_tuple, tuple), \"every entry in the list should be a tuple\"\n",
    "    assert len(each_tuple) == 2, \"lenght of every tuple should be 2\""
   ]
  },
  {
   "cell_type": "markdown",
   "metadata": {},
   "source": [
    "## Functional Test"
   ]
  },
  {
   "cell_type": "code",
   "execution_count": null,
   "metadata": {},
   "outputs": [],
   "source": [
    "m = 3\n",
    "n = 4\n",
    "blocks = [(0,3), (1,1)]\n",
    "assert count_paths(m, n, blocks)==3, \"Checking for the output is 3\""
   ]
  },
  {
   "cell_type": "code",
   "execution_count": null,
   "metadata": {},
   "outputs": [],
   "source": [
    "m = 5\n",
    "n = 5\n",
    "blocks = [(1,2), (3,4), (2,3)]\n",
    "assert count_paths(m, n, blocks)==19, \"Checking for the output is 19\""
   ]
  },
  {
   "cell_type": "code",
   "execution_count": null,
   "metadata": {},
   "outputs": [],
   "source": [
    "m = 10\n",
    "n = 5\n",
    "blocks = [(1,2), (3,4), (2,3)]\n",
    "assert count_paths(m, n, blocks)==539, \"Checking for the output is 539\""
   ]
  },
  {
   "source": [
    "# Polynomial Class"
   ],
   "cell_type": "markdown",
   "metadata": {}
  },
  {
   "cell_type": "markdown",
   "metadata": {},
   "source": [
    "Create a Python class that can implement a univariate polynomial (Polynomial) over the field of integers (only!) with the following operations and interfaces."
   ]
  },
  {
   "source": [
    "    p=Polynomial({0:8,1:2,3:4}) # keys are powers, values are coefficients\n",
    "    q=Polynomial({0:8,1:2,2:8,4:4})\n",
    "    repr(p)\n",
    "    8 + 2 x + 4 x^(3)\n",
    "    \n",
    "    p*3 # integer multiply\n",
    "    24 + 6 x + 12 x^(3)\n",
    "    \n",
    "    3*p # multiplication is commutative!\n",
    "    24 + 6 x + 12 x^(3)\n",
    "    \n",
    "    p+q # add two polynomials\n",
    "    16 + 4 x + 8 x^(2) + 4 x^(3) + 4 x^(4)\n",
    "    \n",
    "    p*4 + 5 - 3*p - 1 # compose operations and add/subtract constants\n",
    "    12 + 2 x + 4 x^(3)\n",
    "    \n",
    "    type(p-p) # zero requires special handling but is still a Polynomial\n",
    "    Polynomial\n",
    "    \n",
    "    p*q # polynomial by polynomial multiplication works as usual\n",
    "    64 + 32 x + 68 x^(2) + 48 x^(3) + 40 x^(4) + 40 x^(5) + 16 x^(7)\n",
    "    \n",
    "    p.subs(10) # substitute in integers and evaluate\n",
    "    4028\n",
    " \n",
    "    (p-p) == 0\n",
    "    True\n",
    "    \n",
    "    p == q\n",
    "    False\n",
    "    \n",
    "    p=Polynomial({0:8,1:0,3:4}) # keys are powers, values are coefficients\n",
    "    repr(p)\n",
    "    '8 + 4 x^(3)'\n",
    "    \n",
    "    p = Polynomial({2:1,0:-1})\n",
    "    q = Polynomial({1:1,0:-1})\n",
    "    p/q\n",
    "    1 + x\n",
    "    \n",
    "    p  / Polynomial({1:1,0:-3}) \n",
    "    raises NotImplementedError\n"
   ],
   "cell_type": "markdown",
   "metadata": {}
  },
  {
   "cell_type": "markdown",
   "metadata": {},
   "source": [
    "## Validation test"
   ]
  },
  {
   "cell_type": "code",
   "execution_count": null,
   "metadata": {},
   "outputs": [],
   "source": [
    "Polynomial(dic)\n",
    "assert isinstance(dic, dict), \"for init step, input must be a dictionary\"\n",
    "assert len(dic)>0, \"for init step, input dictionary can not be empty\"\n",
    "\n",
    "p.subs(x)\n",
    "assert type(x)==int, \"for sub function, input must be Integer\""
   ]
  },
  {
   "source": [
    "## Functional Test"
   ],
   "cell_type": "markdown",
   "metadata": {}
  },
  {
   "cell_type": "code",
   "execution_count": null,
   "metadata": {},
   "outputs": [],
   "source": [
    "p=Polynomial({0:8,1:2,3:4})\n",
    "q=Polynomial({0:8,1:2,2:8,4:4}) \n",
    "assert p*3 == Polynomial({0:24,1:6,3:12}), \"Checking init, equ and Integer Multiplier\"\n"
   ]
  },
  {
   "cell_type": "code",
   "execution_count": null,
   "metadata": {},
   "outputs": [],
   "source": [
    "p = Polynomial({0:1,2:1})\n",
    "q = Polynomial({0:-3,2:2,4:1})\n",
    "assert p*q = Polynomial({0:-3,2:-1,4:3,6:1}), \"Checking Polynomial obj plus Polynomial obj\""
   ]
  },
  {
   "cell_type": "code",
   "execution_count": null,
   "metadata": {},
   "outputs": [],
   "source": [
    "q_rev = Polynomial({0:-3,4:1,2:2})\n",
    "assert q==q_rev, \"Checking equation comprision of Polynomial objs\""
   ]
  },
  {
   "cell_type": "code",
   "execution_count": null,
   "metadata": {},
   "outputs": [],
   "source": [
    "q = Polynomial({0:-3,2:2,4:1})\n",
    "assert q+3 == Polynomial({2:2,4:1}), \"Checking 0 parameter and sum of Polynimial and Integer\""
   ]
  },
  {
   "cell_type": "code",
   "execution_count": null,
   "metadata": {},
   "outputs": [],
   "source": [
    "p = Polynomial({3:1,2:1})\n",
    "assert p-p==0, \"Checking the equality of int 0 and empty Polynomial\" "
   ]
  },
  {
   "cell_type": "code",
   "execution_count": null,
   "metadata": {},
   "outputs": [],
   "source": [
    "assert Polynomial({4:1,2:1})/Polynomial({1:1}) == Polynomial({3:1,1:1}), \"Checking division 1\"\n",
    "assert Polynomial({6:1,4:3,2:-1,0:-3})/Polynomial({2:1, 0:1}) == Polynomial({4:1,2:2,0:-3}), \"Checking division 2\"\n",
    "assert Polynomial({2:6,1:13,0:5})/Polynomial({1:2,0:1}) == Polynomial({1:3,0:5}), \"Checking division 3\"\n",
    "assert Polynomial({2:6,1:13,0:5})/Polynomial({1:2,0:1,5:2})"
   ]
  },
  {
   "cell_type": "code",
   "execution_count": null,
   "metadata": {},
   "outputs": [],
   "source": [
    "p = Polynomial({1:2,0:1})\n",
    "q = Polynomial({1:3,0:5})\n",
    "assert p*q+7-Polynomial({1:8})-2q == Polynomial({2:6,1:1,0:10}), \"Checking different opeartion in a single expression\""
   ]
  },
  {
   "cell_type": "code",
   "execution_count": null,
   "metadata": {},
   "outputs": [],
   "source": [
    "try:\n",
    "    Polynomial({4:2,2:3})/2\n",
    "except NotImplementedError:\n",
    "    pass\n",
    "else:\n",
    "    raise AssertionError('Should be NotImplementedError')# \"Assert the occurance of NotImpletementError when the parameter is not int\""
   ]
  },
  {
   "cell_type": "code",
   "execution_count": null,
   "metadata": {},
   "outputs": [],
   "source": [
    "try:\n",
    "    Polynomial({4:2,2:3})/Polynomial({6:1,3:3,2:2,0:7})\n",
    "except NotImplementedError:\n",
    "    pass\n",
    "else:\n",
    "    raise AssertionError('Should be NotImplementedError') # \"Assert the occurance of NotImpletementError when the numerator has less order than denominator\""
   ]
  },
  {
   "cell_type": "code",
   "execution_count": null,
   "metadata": {},
   "outputs": [],
   "source": [
    "try:\n",
    "    PolynomialPolynomial({6:1,3:3,2:2,0:7})/({4:2,2:3})\n",
    "except NotImplementedError:\n",
    "    pass\n",
    "else:\n",
    "    raise AssertionError('Should be NotImplementedError') # \"Assert the occurance of NotImpletementError when the divition is not completable\""
   ]
  },
  {
   "source": [
    "# Frobenius Solver \n",
    "\n",
    "    The Frobenius equation is the Diophantine equation,\n",
    "\n",
    "    a_1 x_1 +... + a_n x_n = b\n",
    "\n",
    "    where a_i> 0 are positive integers, b> 0 is a positive integer, and the solution x_i consists of non-negative integers. Here is a sample run,\n",
    "\n",
    "    >>> solvefrob([1,2,3,5],10) \n",
    "    [(0, 0, 0, 2), \n",
    "    (0, 1, 1, 1), \n",
    "    (0, 2, 2, 0), \n",
    "    (0, 5, 0, 0), \n",
    "    (1, 0, 3, 0), \n",
    "    (1, 2, 0, 1), \n",
    "    (1, 3, 1, 0), \n",
    "    (2, 0, 1, 1), \n",
    "    (2, 1, 2, 0), \n",
    "    (2, 4, 0, 0), \n",
    "    (3, 1, 0, 1), \n",
    "    (3, 2, 1, 0), \n",
    "    (4, 0, 2, 0), \n",
    "    (4, 3, 0, 0), \n",
    "    (5, 0, 0, 1), \n",
    "    (5, 1, 1, 0), \n",
    "    (6, 2, 0, 0), \n",
    "    (7, 0, 1, 0), \n",
    "    (8, 1, 0, 0), \n",
    "    (10, 0, 0, 0)]"
   ],
   "cell_type": "markdown",
   "metadata": {}
  },
  {
   "source": [
    "## Validation Test"
   ],
   "cell_type": "markdown",
   "metadata": {}
  },
  {
   "cell_type": "code",
   "execution_count": null,
   "metadata": {},
   "outputs": [],
   "source": [
    "assert isinstance(b, int) and b > 0,    'b must be positive integer'\n",
    "assert isinstance(coefs, list),         'Coefficients must be in a list'\n",
    "assert all(isinstance(i, int) and i > 0 for i in coefs),"
   ]
  },
  {
   "source": [
    "## Functional Tests"
   ],
   "cell_type": "markdown",
   "metadata": {}
  },
  {
   "cell_type": "code",
   "execution_count": null,
   "metadata": {},
   "outputs": [],
   "source": [
    "#Normal Case\n",
    "a=[1,2,3,5]\n",
    "b=10 \n",
    "assert solvefrob(a,b)==[(0, 0, 0, 2), (0, 1, 1, 1), (0, 2, 2, 0), (0, 5, 0, 0), (1, 0, 3, 0), (1, 2, 0, 1), (1, 3, 1, 0), (2, 0, 1, 1), (2, 1, 2, 0), (2, 4, 0, 0), (3, 1, 0, 1), (3, 2, 1, 0), (4, 0, 2, 0), (4, 3,0, 0), (5, 0, 0, 1), (5, 1, 1, 0), (6, 2, 0, 0), (7, 0, 1, 0), (8, 1, 0, 0), (10, 0, 0, 0)]"
   ]
  },
  {
   "cell_type": "code",
   "execution_count": null,
   "metadata": {},
   "outputs": [],
   "source": [
    "a=[12,16,20,27]\n",
    "b=123 #Large Value of b\n",
    "assert solvefrob(a,b)==[(0, 1, 4, 1), (0, 6, 0, 1), (1, 4, 1, 1), (2, 2, 2, 1), (3, 0, 3, 1), (4, 3, 0, 1), (5, 1, 1, 1), (8, 0, 0, 1)]"
   ]
  },
  {
   "cell_type": "code",
   "execution_count": null,
   "metadata": {},
   "outputs": [],
   "source": [
    "#Large output\n",
    "a=[1,5,10,25]\n",
    "b=42\n",
    "assert solvefrob(a,b)==[(2, 0, 4, 0), (2, 1, 1, 1), (2, 2, 3, 0), (2, 3, 0, 1), (2, 4, 2, 0), (2, 6, 1, 0), (2, 8, 0, 0), (7, 0, 1, 1), (7, 1, 3, 0), (7, 2, 0, 1), (7, 3, 2, 0), (7, 5, 1, 0), (7, 7, 0, 0), (12, 0, 3, 0), (12, 1, 0, 1), (12, 2, 2, 0), (12, 4, 1, 0), (12, 6, 0, 0), (17, 0, 0, 1), (17, 1, 2, 0), (17, 3, 1, 0), (17, 5, 0, 0), (22, 0, 2, 0), (22, 2, 1, 0), (22, 4, 0, 0), (27, 1, 1, 0), (27, 3, 0, 0), (32, 0, 1, 0), (32, 2, 0, 0), (37, 1, 0, 0), (42, 0, 0, 0)]"
   ]
  },
  {
   "cell_type": "code",
   "execution_count": null,
   "metadata": {},
   "outputs": [],
   "source": [
    "#No Solution Case\n",
    "a=[24, 29, 31, 34, 37, 39]\n",
    "b=88\n",
    "assert solvefrob(a,b)==[]"
   ]
  },
  {
   "source": [
    "#  Convex Cover \r\n",
    "\r\n",
    "    Given a irregular, closed, convex polygon P with n−1 sides and m circle-centers {(xi,yi)}mi contained within that polygon, compute the radii, 0≤ri, of m circles centered at those m points such that the sum of     the areas of the circles is minimized (approximately) and that any vertex in P is also contained in at least one of the m\r\n",
    "    circles. \r\n",
    "    Here is the function signature: find_convex_cover(pvertices,clist) where pvertices is a (n−1)\r\n",
    "    -long iterable of polygon vertices and clist is a list of (xi,yi) tuples of circle-centers. The output of find_convex_cover is a m long list of radii, ri, corresponding to the m\r\n",
    "    circle-centers."
   ],
   "cell_type": "markdown",
   "metadata": {}
  },
  {
   "source": [
    "## Validation Tests"
   ],
   "cell_type": "markdown",
   "metadata": {}
  },
  {
   "cell_type": "code",
   "execution_count": null,
   "metadata": {},
   "outputs": [],
   "source": [
    "assert type(pvertices) == np.ndarray, \"The input corner information is in form of ndarray\"\n",
    "\n",
    "for li in pvertices:\n",
    "    assert type(li) == list, \"The element in li are lists\"\n",
    "    assert len(li) == 2, \"information of corner is only 2-D coordinate\""
   ]
  },
  {
   "cell_type": "code",
   "execution_count": null,
   "metadata": {},
   "outputs": [],
   "source": [
    "assert type(clist) == list， \"The input center information is in form of list\"\n",
    "for tu in clist:\n",
    "    assert type(tu) == tuple, \"The element in tu are tuples\"\n",
    "    assert len(tu) == 2,  \"information of center is only 2-D coordinate\""
   ]
  },
  {
   "source": [
    "## Functional Tests\n",
    "    It is a no-accuracy task. But the difference should be in an area."
   ],
   "cell_type": "markdown",
   "metadata": {}
  },
  {
   "cell_type": "code",
   "execution_count": null,
   "metadata": {},
   "outputs": [],
   "source": [
    "pivorts = np.array([[ 0.573,  0.797],[ 0.688,  0.402],[ 0.747,  0.238],[ 0.802,  0.426],\n",
    "                    [ 0.757,  0.796], [ 0.589,  0.811]])\n",
    "centers = [(0.7490863467660889, 0.4917635308023209),\n",
    "           (0.6814339441396109, 0.6199470305156477),\n",
    "              (0.7241617773773865, 0.6982813914515696),\n",
    "              (0.6600700275207232, 0.7516911829987891),\n",
    "              (0.6315848053622062, 0.7730550996176769),\n",
    "              (0.7348437356868305, 0.41342916986639894),\n",
    "              (0.7597683050755328, 0.31729154508140384)]\n",
    "ans = [0, 0, 0.10308867698080958, 0, 0.06328931721583797, 0.06832268735016316, 0.0803130047744335]\n",
    "tolarance = 0.005\n",
    "result = find_convex_cover(pivorts, centers)\n",
    "assert len(result)==len(ans), \"Each center should be reported its radius\"\n",
    "for i in range(0,len(result)):\n",
    "    assert abs(result[i]-ans[i])<tolarance, \"It is a no-accuracy task. But the difference should be in an area.\""
   ]
  },
  {
   "cell_type": "code",
   "execution_count": null,
   "metadata": {},
   "outputs": [],
   "source": [
    "pivorts = np.array([[[ 1.189,  0.711],[ 0.573,  0.797],[ 0.688, 0.402],[ 0.666,  0.326], [ 0.747,  0.238],[ 0.802,  0.426],\n",
    "                    [ 0.757,  0.796], [ 0.589,  0.811],[ 0.457,  0.996], [ 0.189,  0.911]]])\n",
    "centers = [(0.7490863467660889, 0.4917635308023209),\n",
    "           (0.6814339441396109, 0.6199470305156477),\n",
    "              (0.7241617773773865, 0.6982813914515696),\n",
    "              (0.6600700275207232, 0.7516911829987891),\n",
    "              (0.6315848053622062, 0.7730550996176769),\n",
    "              (0.7348437356868305, 0.41342916986639894),\n",
    "              (0.7597683050755328, 0.31729154508140384)]\n",
    "ans = [0, 0, 0.4650121893180421, 0, 0.46358397888515407, 0.06832268735016316, 0.09417182287609925]\n",
    "tolarance = 0.005\n",
    "result = find_convex_cover(pivorts, centers)\n",
    "assert len(result)==len(ans), \"Each center should be reported its radius\"\n",
    "for i in range(0,len(result)):\n",
    "    assert abs(result[i]-ans[i])<tolarance, \"Checking input of many convex with more edges.\""
   ]
  },
  {
   "cell_type": "code",
   "execution_count": null,
   "metadata": {},
   "outputs": [],
   "source": [
    "pivorts = np.array([[ 1.189,  0.711],[ 0.573,  0.797],[ 0.688, 0.402],[ 0.666,  0.326], [ 0.747,  0.238],[ 0.802,  0.426]])\n",
    "centers = [(0.7490863467660889, 0.4917635308023209),\n",
    "              (0.7348437356868305, 0.41342916986639894),\n",
    "              (0.7597683050755328, 0.31729154508140384)]\n",
    "ans = [0.49151668509611224, 0.06832268735016316, 0.09417182287609925]\n",
    "tolarance = 0.005\n",
    "result = find_convex_cover(pivorts, centers)\n",
    "assert len(result)==len(ans), \"Each center should be reported its radius\"\n",
    "for i in range(0,len(result)):\n",
    "    assert abs(result[i]-ans[i])<tolarance, \"Checking when center is less then number of edges.\""
   ]
  }
 ],
 "metadata": {
  "kernelspec": {
   "display_name": "Python 3",
   "language": "python",
   "name": "python3"
  },
  "language_info": {
   "codemirror_mode": {
    "name": "ipython",
    "version": 3
   },
   "file_extension": ".py",
   "mimetype": "text/x-python",
   "name": "python",
   "nbconvert_exporter": "python",
   "pygments_lexer": "ipython3",
   "version": "3.7.3-final"
  }
 },
 "nbformat": 4,
 "nbformat_minor": 4
}