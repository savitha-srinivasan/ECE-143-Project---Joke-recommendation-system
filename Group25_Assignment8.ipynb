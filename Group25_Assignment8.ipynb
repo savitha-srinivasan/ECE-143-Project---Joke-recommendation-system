{
 "metadata": {
  "language_info": {
   "codemirror_mode": {
    "name": "ipython",
    "version": 3
   },
   "file_extension": ".py",
   "mimetype": "text/x-python",
   "name": "python",
   "nbconvert_exporter": "python",
   "pygments_lexer": "ipython3",
   "version": 3
  },
  "orig_nbformat": 2
 },
 "nbformat": 4,
 "nbformat_minor": 2,
 "cells": [
  {
   "source": [
    "## Question: Next permutation "
   ],
   "cell_type": "markdown",
   "metadata": {}
  },
  {
   "cell_type": "code",
   "execution_count": null,
   "metadata": {},
   "outputs": [],
   "source": [
    "#Validation tests \n",
    "assert isinstance(tup, tuple), \"input must be a tuple\"\n",
    "for i in tup: \n",
    "    assert i>=0, \"Values in the tuple must be positive numbers\"\n",
    "assert len(set(tup))==len(tup) \"Values in the tuple must be unique\""
   ]
  },
  {
   "cell_type": "code",
   "execution_count": null,
   "metadata": {},
   "outputs": [],
   "source": [
    "#Functional tests \n",
    "data = (1,2,3)\n",
    "assert next_permutation(data)==(1,3,2), \"simple functional test\""
   ]
  },
  {
   "cell_type": "code",
   "execution_count": null,
   "metadata": {},
   "outputs": [],
   "source": [
    "data = (12,7,5,4,3,2,1)\n",
    "assert next_permutation(data)==(1, 2, 3, 4, 5, 7, 12), \"checking for input in descending order\""
   ]
  },
  {
   "cell_type": "code",
   "execution_count": null,
   "metadata": {},
   "outputs": [],
   "source": [
    "data = (4,6,2,1)\n",
    "assert next_permutation(data)==(6, 1, 2, 4), \"simple functional test\""
   ]
  },
  {
   "cell_type": "code",
   "execution_count": null,
   "metadata": {},
   "outputs": [],
   "source": [
    "data = (54, 55, 70, 87, 72, 1, 3, 5, 6, 7, 8, 9, 12, 13, 14, 16, 23, 32, 34, 45, 90, 98)\n",
    "assert next_permutation(data)==(54, 55, 70, 87, 72, 1, 3, 5, 6, 7, 8, 9, 12, 13, 14, 16, 23, 32, 34, 45, 98, 90), \"checking for a very long input\""
   ]
  }
 ]
}