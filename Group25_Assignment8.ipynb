{
 "cells": [
  {
   "cell_type": "markdown",
   "metadata": {},
   "source": [
    "# Next Permutation\n",
    "        Next Permutation\n",
    "        Given a permutation of any length,\n",
    "         generate the next permutation in lexicographic order. \n",
    "         For example, this are the permutations for [1,2,3] in lexicographic order.\n",
    "\n",
    "        >>> list(it.permutations([1,2,3]))\n",
    "        [(1, 2, 3), (1, 3, 2), (2, 1, 3), (2, 3, 1), (3, 1, 2), (3, 2, 1)] \n",
    "        Then, your function next_permutation(t:tuple)->tuple should do the following\n",
    "\n",
    "        >>> next_permutation((2,3,1))\n",
    "        (3,1,2) \n",
    "        Because (3,1,2) is the next permutation in lexicographic order. Here is another example:\n",
    "\n",
    "        >>> next_permutation((0, 5, 2, 1, 4, 7, 3, 6))\n",
    "        (0, 5, 2, 1, 4, 7, 6, 3) \n",
    "        Your function should work for very long input tuples so\n",
    "         the autograder will time-out if you try to brute force your solution. \n",
    "         The last permutation should wrap aruond to the first.\n",
    "\n",
    "        >>> next_permutation((3,2,1,0))\n",
    "        (0, 1, 2, 3) "
   ]
  },
  {
   "cell_type": "markdown",
   "metadata": {},
   "source": [
    "## Validation Tests\n",
    "Check for corner cases and constraints in the inputs enlist all cases used for testing"
   ]
  },
  {
   "cell_type": "code",
   "execution_count": null,
   "metadata": {},
   "outputs": [],
   "source": [
    "#Validation tests \n",
    "assert isinstance(tup, tuple), \"input must be a tuple\"\n",
    "for i in tup: \n",
    "    assert i>=0, \"Values in the tuple must be positive numbers\"\n",
    "assert len(set(tup))==len(tup) \"Values in the tuple must be unique\""
   ]
  },
  {
   "cell_type": "code",
   "execution_count": null,
   "metadata": {},
   "outputs": [],
   "source": []
  },
  {
   "cell_type": "markdown",
   "metadata": {},
   "source": [
    "## Functional Tests\n",
    "Check function output matches expected result enlist all cases used for testing"
   ]
  },
  {
   "cell_type": "code",
   "execution_count": null,
   "metadata": {},
   "outputs": [],
   "source": [
    "data = (1,2,3)\n",
    "assert next_permutation(data)==(1,3,2), \"simple functional test\""
   ]
  },
  {
   "cell_type": "code",
   "execution_count": null,
   "metadata": {},
   "outputs": [],
   "source": [
    "data = (12,7,5,4,3,2,1)\n",
    "assert next_permutation(data)==(1, 2, 3, 4, 5, 7, 12), \"checking for input in descending order\""
   ]
  },
  {
   "cell_type": "code",
   "execution_count": null,
   "metadata": {},
   "outputs": [],
   "source": [
    "data = (4,6,2,1)\n",
    "assert next_permutation(data)==(6, 1, 2, 4), \"simple functional test\""
   ]
  },
  {
   "cell_type": "code",
   "execution_count": null,
   "metadata": {},
   "outputs": [],
   "source": [
    "data = (54, 55, 70, 87, 72, 1, 3, 5, 6, 7, 8, 9, 12, 13, 14, 16, 23, 32, 34, 45, 90, 98)\n",
    "assert next_permutation(data)==(54, 55, 70, 87, 72, 1, 3, 5, 6, 7, 8, 9, 12, 13, 14, 16, 23, 32, 34, 45, 98, 90), \"checking for a very long input\""
   ]
  },
  {
   "cell_type": "code",
   "execution_count": null,
   "metadata": {},
   "outputs": [],
   "source": []
  },
  {
   "cell_type": "code",
   "execution_count": null,
   "metadata": {},
   "outputs": [],
   "source": []
  },
  {
   "cell_type": "markdown",
   "metadata": {},
   "source": [
    "# Water Traps\n",
    "        You are given an array of non-negative integers that\n",
    "         represents a two-dimensional elevation map where each element is unit-width wall and\n",
    "          the integer value is the height. Suppose rain fills all available gaps between two bordering walls.\n",
    "\n",
    "        Compute how many units of water remain trapped between the walls in the map.\n",
    "\n",
    "        For example, given the input [2, 1, 2], we can hold 1 unit of water in the middle.\n",
    "         Here's another example for the sequence [3, 0, 1, 3, 0, 5] where the answer is 8,\n",
    "        Example\n",
    "\n",
    "        Here is the function signature get_trapped_water(seq) where seq is an input list,\n",
    "         as in the examples.\n",
    "    "
   ]
  },
  {
   "cell_type": "markdown",
   "metadata": {},
   "source": [
    "## Validation Tests\n",
    "Check for corner cases and constraints in the inputs enlist all cases used for testing"
   ]
  },
  {
   "cell_type": "code",
   "execution_count": null,
   "metadata": {},
   "outputs": [],
   "source": [
    "assert isinstance(seq,list) and len(seq)>0 \"seq must be a list and the length of seq must be greater than 0\"\n",
    "for num in seq:\n",
    "    assert isinstance(num, int) and num>=0 \"for each number in seq must be a integer and greater than 0\""
   ]
  },
  {
   "cell_type": "markdown",
   "metadata": {},
   "source": [
    "## Functional Tests\n",
    "Check function output matches expected result enlist all cases used for testing"
   ]
  },
  {
   "cell_type": "code",
   "execution_count": null,
   "metadata": {},
   "outputs": [],
   "source": [
    "data =[4,2,0,3,2,5] \n",
    "assert get_trapped_water(data)==9 \"Checking for the output is 9\"\n",
    "assert get_trapped_water(data)==8 \"Checking for the output is 8\""
   ]
  },
  {
   "cell_type": "code",
   "execution_count": null,
   "metadata": {},
   "outputs": [],
   "source": [
    "data=[0,1,0,2,1,0,1,3,2,1,2,1]\n",
    "assert get_trapped_water()==6 \"Checking for the output is 6\"\n",
    "assert get_trapped_water(data)==5 \"Checking for the output is 5\""
   ]
  },
  {
   "cell_type": "markdown",
   "metadata": {},
   "source": [
    "# Grid Path Searching\n",
    "            A two dimensional grid has M horizontal rows and N vertical columns. Let\n",
    "            (i,j)denote the square at the\n",
    "            (i + 1) t h row from the top and the\n",
    "            (j + 1 ) t h column from the left i.e., they are 0-indexed.\n",
    "\n",
    "            Within the grid, for each\n",
    "            i and  j ( 0 ≤ i ≤ M − 1 ,  0 ≤ j ≤ N − 1), there can only be two symbols # and .\n",
    "            where # denotes a blockage and . denotes a passable opening.\n",
    "            Starting at the upper left and only moving downwards and rightwards,\n",
    "            find the number of connected paths between\n",
    "            the top-left square and the bottom right square by traversing only the intermediate squares with the . symbol. The start and end positions are never be marked with #.\n",
    "\n",
    "            Example:\n",
    "\n",
    "            M=3 and N=4\n",
    "            ...#\n",
    "            .#..\n",
    "            ....\n",
    "            calling count_paths(3,4,[(0,3),(1,1)]) returns the answer is 3.\n",
    "            Here is the function signature: count_paths(m,n,blocks)\n",
    "            where m is the number of rows and n is the number of columns.\n",
    "            The blocks variable is a list of tuples indicating the blocked # entries in the grid.\n"
   ]
  },
  {
   "cell_type": "markdown",
   "metadata": {},
   "source": [
    "## Validation Test"
   ]
  },
  {
   "cell_type": "code",
   "execution_count": null,
   "metadata": {},
   "outputs": [],
   "source": [
    "assert isinstance(m, int), \"The first entry of the input must be integer\"\n",
    "assert isinstance(n, int), \"The second entry of the input must be integer\"\n",
    "assert isinstance(blocks, list), \"The third entry of the input must be a list\"\n",
    "for each_tuple in blocks:\n",
    "    assert isinstance(each_tuple, tuple), \"every entry in the list should be a tuple\"\n",
    "    assert len(each_tuple) == 2, \"lenght of every tuple should be 2\""
   ]
  },
  {
   "cell_type": "markdown",
   "metadata": {},
   "source": [
    "## Functional Test"
   ]
  },
  {
   "cell_type": "code",
   "execution_count": null,
   "metadata": {},
   "outputs": [],
   "source": [
    "m = 3\n",
    "n = 4\n",
    "blocks = [(0,3), (1,1)]\n",
    "assert count_paths(m, n, blocks)==3, \"Checking for the output is 3\""
   ]
  },
  {
   "cell_type": "code",
   "execution_count": null,
   "metadata": {},
   "outputs": [],
   "source": [
    "m = 5\n",
    "n = 5\n",
    "blocks = [(1,2), (3,4), (2,3)]\n",
    "assert count_paths(m, n, blocks)==19, \"Checking for the output is 19\""
   ]
  },
  {
   "cell_type": "code",
   "execution_count": null,
   "metadata": {},
   "outputs": [],
   "source": [
    "m = 10\n",
    "n = 5\n",
    "blocks = [(1,2), (3,4), (2,3)]\n",
    "assert count_paths(m, n, blocks)==539, \"Checking for the output is 539\""
   ]
  }
 ],
 "metadata": {
  "kernelspec": {
   "display_name": "Python 3",
   "language": "python",
   "name": "python3"
  },
  "language_info": {
   "codemirror_mode": {
    "name": "ipython",
    "version": 3
   },
   "file_extension": ".py",
   "mimetype": "text/x-python",
   "name": "python",
   "nbconvert_exporter": "python",
   "pygments_lexer": "ipython3",
   "version": "3.8.2"
  }
 },
 "nbformat": 4,
 "nbformat_minor": 4
}
