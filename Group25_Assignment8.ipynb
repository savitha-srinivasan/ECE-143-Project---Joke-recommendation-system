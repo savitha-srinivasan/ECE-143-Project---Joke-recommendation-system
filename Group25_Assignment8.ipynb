{
 "cells": [
  {
   "cell_type": "markdown",
   "metadata": {},
   "source": [
    "# Next Permutation\n",
    "        Next Permutation\n",
    "        Given a permutation of any length,\n",
    "         generate the next permutation in lexicographic order. \n",
    "         For example, this are the permutations for [1,2,3] in lexicographic order.\n",
    "\n",
    "        >>> list(it.permutations([1,2,3]))\n",
    "        [(1, 2, 3), (1, 3, 2), (2, 1, 3), (2, 3, 1), (3, 1, 2), (3, 2, 1)] \n",
    "        Then, your function next_permutation(t:tuple)->tuple should do the following\n",
    "\n",
    "        >>> next_permutation((2,3,1))\n",
    "        (3,1,2) \n",
    "        Because (3,1,2) is the next permutation in lexicographic order. Here is another example:\n",
    "\n",
    "        >>> next_permutation((0, 5, 2, 1, 4, 7, 3, 6))\n",
    "        (0, 5, 2, 1, 4, 7, 6, 3) \n",
    "        Your function should work for very long input tuples so\n",
    "         the autograder will time-out if you try to brute force your solution. \n",
    "         The last permutation should wrap aruond to the first.\n",
    "\n",
    "        >>> next_permutation((3,2,1,0))\n",
    "        (0, 1, 2, 3) "
   ]
  },
  {
   "cell_type": "markdown",
   "metadata": {},
   "source": [
    "# Validation Tests\n",
    "Check for corner cases and constraints in the inputs enlist all cases used for testing"
   ]
  },
  {
   "cell_type": "code",
   "execution_count": null,
   "metadata": {},
   "outputs": [],
   "source": []
  },
  {
   "cell_type": "code",
   "execution_count": null,
   "metadata": {},
   "outputs": [],
   "source": []
  },
  {
   "cell_type": "markdown",
   "metadata": {},
   "source": [
    "# Functional Tests\n",
    "Check function output matches expected result enlist all cases used for testing"
   ]
  },
  {
   "cell_type": "code",
   "execution_count": null,
   "metadata": {},
   "outputs": [],
   "source": []
  },
  {
   "cell_type": "code",
   "execution_count": null,
   "metadata": {},
   "outputs": [],
   "source": []
  },
  {
   "cell_type": "markdown",
   "metadata": {},
   "source": [
    "# Water Traps\n",
    "        You are given an array of non-negative integers that\n",
    "         represents a two-dimensional elevation map where each element is unit-width wall and\n",
    "          the integer value is the height. Suppose rain fills all available gaps between two bordering walls.\n",
    "\n",
    "        Compute how many units of water remain trapped between the walls in the map.\n",
    "\n",
    "        For example, given the input [2, 1, 2], we can hold 1 unit of water in the middle.\n",
    "         Here's another example for the sequence [3, 0, 1, 3, 0, 5] where the answer is 8,\n",
    "        Example\n",
    "\n",
    "        Here is the function signature get_trapped_water(seq) where seq is an input list,\n",
    "         as in the examples.\n",
    "    "
   ]
  },
  {
   "cell_type": "markdown",
   "metadata": {},
   "source": [
    "#### Validation Tests\n",
    "Check for corner cases and constraints in the inputs enlist all cases used for testing"
   ]
  },
  {
   "cell_type": "code",
   "execution_count": null,
   "metadata": {},
   "outputs": [],
   "source": [
    "assert isinstance(seq,list) and len(seq)>0 \"seq must be a list and the length of seq must be greater than 0\"\n",
    "for num in seq:\n",
    "    assert isinstance(num, int) and num>=0 \"for each number in seq must be a integer and greater than 0\""
   ]
  },
  {
   "cell_type": "markdown",
   "metadata": {},
   "source": [
    "#### Functional Tests\n",
    "Check function output matches expected result enlist all cases used for testing"
   ]
  },
  {
   "cell_type": "code",
   "execution_count": null,
   "metadata": {},
   "outputs": [],
   "source": [
    "data =[4,2,0,3,2,5] \n",
    "assert get_trapped_water(data)==9\n"
   ]
  },
  {
   "cell_type": "code",
   "execution_count": null,
   "metadata": {},
   "outputs": [],
   "source": [
    "get_trapped_water([0,1,0,2,1,0,1,3,2,1,2,1])\n",
    "6"
   ]
  }
 ],
 "metadata": {
  "kernelspec": {
   "display_name": "Python 3",
   "language": "python",
   "name": "python3"
  },
  "language_info": {
   "codemirror_mode": {
    "name": "ipython",
    "version": 3
   },
   "file_extension": ".py",
   "mimetype": "text/x-python",
   "name": "python",
   "nbconvert_exporter": "python",
   "pygments_lexer": "ipython3",
   "version": "3.7.6"
  }
 },
 "nbformat": 4,
 "nbformat_minor": 4
}
